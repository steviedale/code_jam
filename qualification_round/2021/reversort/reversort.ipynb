{
 "cells": [
  {
   "cell_type": "code",
   "execution_count": 16,
   "metadata": {},
   "outputs": [
    {
     "data": {
      "text/plain": [
       "'\\nhttps://codingcompetitions.withgoogle.com/codejam/round/000000000043580a/00000000006d0a5c\\n'"
      ]
     },
     "execution_count": 16,
     "metadata": {},
     "output_type": "execute_result"
    }
   ],
   "source": [
    "\"\"\"\n",
    "https://codingcompetitions.withgoogle.com/codejam/round/000000000043580a/00000000006d0a5c\n",
    "\"\"\""
   ]
  },
  {
   "cell_type": "code",
   "execution_count": 17,
   "metadata": {},
   "outputs": [],
   "source": [
    "import numpy as np"
   ]
  },
  {
   "cell_type": "code",
   "execution_count": 1,
   "metadata": {},
   "outputs": [],
   "source": [
    "test_case = '/Users/sdale/repos/code_jam/qualification_round/2021/reversort/testcases/1.txt'\n",
    "with open(test_case) as f:\n",
    "    input_lines = f.readlines()\n",
    "input_line_index = 0\n",
    "def input():\n",
    "    input_line_index += 1\n",
    "    return input_lines[input_line_index]"
   ]
  },
  {
   "cell_type": "code",
   "execution_count": 18,
   "metadata": {},
   "outputs": [],
   "source": [
    "text = input()"
   ]
  },
  {
   "cell_type": "code",
   "execution_count": 19,
   "metadata": {},
   "outputs": [
    {
     "data": {
      "text/plain": [
       "[[3], [4], [4, 2, 1, 3], [2], [1, 2], [7], [7, 6, 5, 4, 3, 2, 1]]"
      ]
     },
     "execution_count": 19,
     "metadata": {},
     "output_type": "execute_result"
    }
   ],
   "source": [
    "tokens = []\n",
    "for line in lines:\n",
    "    tokens.append([int(x) for x in line.split(' ')])\n",
    "tokens"
   ]
  },
  {
   "cell_type": "code",
   "execution_count": 20,
   "metadata": {},
   "outputs": [
    {
     "data": {
      "text/plain": [
       "[[4, 2, 1, 3], [1, 2], [7, 6, 5, 4, 3, 2, 1]]"
      ]
     },
     "execution_count": 20,
     "metadata": {},
     "output_type": "execute_result"
    }
   ],
   "source": [
    "assert(len(tokens[0]) == 1)\n",
    "num_tests = tokens[0][0]\n",
    "assert(len(tokens) == num_tests * 2 + 1)\n",
    "inputs = [tokens[i * 2 + 2] for i in range(num_tests)]\n",
    "inputs"
   ]
  },
  {
   "cell_type": "code",
   "execution_count": 21,
   "metadata": {},
   "outputs": [],
   "source": [
    "def reversort(l: list):\n",
    "    count = len(l) - 1\n",
    "    for i in range(len(l) - 1):\n",
    "        l_remainder = l[i:]\n",
    "        min = np.argmin(l_remainder)\n",
    "        count += min\n",
    "        l[i:i+min+1] = reversed(l[i:i+min+1])\n",
    "    return l, count"
   ]
  },
  {
   "cell_type": "code",
   "execution_count": 24,
   "metadata": {},
   "outputs": [
    {
     "data": {
      "text/plain": [
       "[6, 1, 12]"
      ]
     },
     "execution_count": 24,
     "metadata": {},
     "output_type": "execute_result"
    }
   ],
   "source": [
    "sols = [reversort(i.copy())[1] for i in inputs]\n",
    "sols"
   ]
  },
  {
   "cell_type": "code",
   "execution_count": 25,
   "metadata": {},
   "outputs": [
    {
     "name": "stdout",
     "output_type": "stream",
     "text": [
      "Case #1: 6\n",
      "Case #2: 1\n",
      "Case #3: 12\n"
     ]
    }
   ],
   "source": [
    "for i, s in enumerate(sols):\n",
    "    print(f'Case #{i+1}: {s}')"
   ]
  },
  {
   "cell_type": "code",
   "execution_count": null,
   "metadata": {},
   "outputs": [],
   "source": []
  }
 ],
 "metadata": {
  "interpreter": {
   "hash": "5b8e8c7c58fcf0fc99607013f6c94fb3e01c2b10f0ed16d273209e7f8e5331c1"
  },
  "kernelspec": {
   "display_name": "Python 3.8.9 64-bit ('venv': venv)",
   "language": "python",
   "name": "python3"
  },
  "language_info": {
   "codemirror_mode": {
    "name": "ipython",
    "version": 3
   },
   "file_extension": ".py",
   "mimetype": "text/x-python",
   "name": "python",
   "nbconvert_exporter": "python",
   "pygments_lexer": "ipython3",
   "version": "3.8.9"
  },
  "orig_nbformat": 4
 },
 "nbformat": 4,
 "nbformat_minor": 2
}
