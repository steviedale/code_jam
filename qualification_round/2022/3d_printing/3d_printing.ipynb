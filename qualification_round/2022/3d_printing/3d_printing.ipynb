{
 "cells": [
  {
   "cell_type": "code",
   "execution_count": 10,
   "metadata": {},
   "outputs": [],
   "source": [
    "import numpy as np\n",
    "import os"
   ]
  },
  {
   "cell_type": "code",
   "execution_count": 11,
   "metadata": {},
   "outputs": [],
   "source": [
    "test_case = '/Users/sdale/repos/code_jam/qualification_round/2022/3d_printing/testcases/1_input.txt'\n",
    "assert(os.path.exists(test_case))\n",
    "with open(test_case) as f:\n",
    "    input_lines = f.readlines()\n",
    "input_line_index = 0\n",
    "def input():\n",
    "    global input_line_index\n",
    "    ret = input_lines[input_line_index].replace('\\n', '')\n",
    "    input_line_index += 1\n",
    "    return ret "
   ]
  },
  {
   "cell_type": "code",
   "execution_count": 12,
   "metadata": {},
   "outputs": [],
   "source": [
    "required_units = 1e6"
   ]
  },
  {
   "cell_type": "code",
   "execution_count": 13,
   "metadata": {},
   "outputs": [],
   "source": [
    "num_testcases = int(input())"
   ]
  },
  {
   "cell_type": "code",
   "execution_count": 14,
   "metadata": {},
   "outputs": [],
   "source": [
    "def get_colors():\n",
    "    c1, c2, c3, c4 = input().split(' ')\n",
    "    return int(c1), int(c2), int(c3), int(c4)"
   ]
  },
  {
   "cell_type": "code",
   "execution_count": 15,
   "metadata": {},
   "outputs": [],
   "source": [
    "printers = [get_colors() for _ in range(3)]"
   ]
  },
  {
   "cell_type": "code",
   "execution_count": 16,
   "metadata": {},
   "outputs": [],
   "source": [
    "recipe = []\n",
    "total = 0\n",
    "for color_i in range(4):\n",
    "    min_units = float('inf')\n",
    "    for printer in printers:\n",
    "        min_units = min(printer[color_i], min_units)\n",
    "    total += min_units\n",
    "    recipe.append(min_units) "
   ]
  },
  {
   "cell_type": "code",
   "execution_count": null,
   "metadata": {},
   "outputs": [],
   "source": [
    "if total > required_units:\n",
    "    excess = total - required_units\n",
    "    for i in reversed(range(len(recipe))):\n",
    "        if excess > recipe[i]:\n",
    "            excess -= recipe[i]\n",
    "            recipe[i] = 0\n",
    "        else:\n",
    "            recipe[i] -= excess\n",
    "            excess = 0\n",
    "            break"
   ]
  },
  {
   "cell_type": "code",
   "execution_count": 17,
   "metadata": {},
   "outputs": [
    {
     "name": "stdout",
     "output_type": "stream",
     "text": [
      "300000 200000 300000 200000"
     ]
    }
   ],
   "source": [
    "if total < required_units:\n",
    "    print('IMPOSSIBLE', end='')\n",
    "else:\n",
    "    for i, ingredient in enumerate(recipe):\n",
    "        print(ingredient, end='')\n",
    "        if i < len(recipe) - 1:\n",
    "            print(' ', end='')"
   ]
  }
 ],
 "metadata": {
  "interpreter": {
   "hash": "5b8e8c7c58fcf0fc99607013f6c94fb3e01c2b10f0ed16d273209e7f8e5331c1"
  },
  "kernelspec": {
   "display_name": "Python 3.8.9 64-bit ('venv': venv)",
   "language": "python",
   "name": "python3"
  },
  "language_info": {
   "codemirror_mode": {
    "name": "ipython",
    "version": 3
   },
   "file_extension": ".py",
   "mimetype": "text/x-python",
   "name": "python",
   "nbconvert_exporter": "python",
   "pygments_lexer": "ipython3",
   "version": "3.8.9"
  },
  "orig_nbformat": 4
 },
 "nbformat": 4,
 "nbformat_minor": 2
}
