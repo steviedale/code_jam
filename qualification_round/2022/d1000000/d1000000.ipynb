{
 "cells": [
  {
   "cell_type": "code",
   "execution_count": null,
   "metadata": {},
   "outputs": [],
   "source": [
    "import os"
   ]
  },
  {
   "cell_type": "code",
   "execution_count": null,
   "metadata": {},
   "outputs": [],
   "source": [
    "test_case = '/Users/sdale/repos/code_jam/qualification_round/2022/d1000000/testcases/1_input.txt'\n",
    "assert(os.path.exists(test_case))\n",
    "with open(test_case) as f:\n",
    "    input_lines = f.readlines()\n",
    "input_line_index = 0\n",
    "def input():\n",
    "    global input_line_index\n",
    "    ret = input_lines[input_line_index].replace('\\n', '')\n",
    "    input_line_index += 1\n",
    "    return ret "
   ]
  },
  {
   "cell_type": "code",
   "execution_count": null,
   "metadata": {},
   "outputs": [],
   "source": [
    "num_testcases = int(input())"
   ]
  },
  {
   "cell_type": "code",
   "execution_count": null,
   "metadata": {},
   "outputs": [],
   "source": [
    "def find(l, q):\n",
    "    for i, item in enumerate(l):\n",
    "        if item == q:\n",
    "            return i\n",
    "    return None\n",
    "# 10 10 7 7 7 6 5 4 4 4 \n",
    "def solve(dice):\n",
    "    dice = sorted(dice)\n",
    "    table = [list(range(d)) for d in dice]\n",
    "    best = 0\n",
    "    while len(table) > 0:\n",
    "        cur_num = None\n",
    "        cur_counter = 0\n",
    "        for rolls_i, rolls in enumerate(table):\n",
    "            if cur_num is None:\n",
    "                cur_num = rolls.pop(0)\n",
    "                cur_counter += 1\n",
    "            else:\n",
    "                if cur_num+1 in rolls:\n",
    "                    index = find(rolls, cur_num+1)\n",
    "                    cur_num = rolls.pop(index)\n",
    "                    cur_counter += 1\n",
    "            if len(rolls) == 0:\n",
    "                table.pop(rolls_i)\n",
    "        best = max(cur_counter, best)\n",
    "    return best "
   ]
  },
  {
   "cell_type": "code",
   "execution_count": null,
   "metadata": {},
   "outputs": [],
   "source": [
    "for testcase_i in range(num_testcases):\n",
    "    print(f'Case #{testcase_i+1}: ', end='')\n",
    "    num_dice = int(input())\n",
    "    dice = [int(x) for x in input().split()]\n",
    "    x = solve(dice)\n",
    "    print(x)"
   ]
  },
  {
   "cell_type": "code",
   "execution_count": null,
   "metadata": {},
   "outputs": [],
   "source": []
  }
 ],
 "metadata": {
  "interpreter": {
   "hash": "5b8e8c7c58fcf0fc99607013f6c94fb3e01c2b10f0ed16d273209e7f8e5331c1"
  },
  "kernelspec": {
   "display_name": "Python 3.8.9 64-bit ('venv': venv)",
   "language": "python",
   "name": "python3"
  },
  "language_info": {
   "codemirror_mode": {
    "name": "ipython",
    "version": 3
   },
   "file_extension": ".py",
   "mimetype": "text/x-python",
   "name": "python",
   "nbconvert_exporter": "python",
   "pygments_lexer": "ipython3",
   "version": "3.8.9"
  },
  "orig_nbformat": 4
 },
 "nbformat": 4,
 "nbformat_minor": 2
}
