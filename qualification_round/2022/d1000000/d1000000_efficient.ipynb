{
 "cells": [
  {
   "cell_type": "code",
   "execution_count": 16,
   "metadata": {},
   "outputs": [],
   "source": [
    "import os\n",
    "import numpy as np"
   ]
  },
  {
   "cell_type": "code",
   "execution_count": 17,
   "metadata": {},
   "outputs": [],
   "source": [
    "test_case = '/Users/sdale/repos/code_jam/qualification_round/2022/d1000000/testcases/1_input.txt'\n",
    "assert(os.path.exists(test_case))\n",
    "with open(test_case) as f:\n",
    "    input_lines = f.readlines()\n",
    "input_line_index = 0\n",
    "def input():\n",
    "    global input_line_index\n",
    "    ret = input_lines[input_line_index].replace('\\n', '')\n",
    "    input_line_index += 1\n",
    "    return ret "
   ]
  },
  {
   "cell_type": "code",
   "execution_count": 18,
   "metadata": {},
   "outputs": [],
   "source": [
    "num_testcases = int(input())"
   ]
  },
  {
   "cell_type": "code",
   "execution_count": 19,
   "metadata": {},
   "outputs": [],
   "source": [
    "def solve(dice):\n",
    "    # i: 0 1 2 3 4 5 6 7 8  9\n",
    "    # v: 4 4 4 5 6 7 7 7 10 10\n",
    "    # ret: 7\n",
    "\n",
    "    # i: 0 1 2 3 4 5 6 7  8\n",
    "    # v: 4 4 5 6 7 7 7 10 10\n",
    "    # ret: 9\n",
    "    for i, d in enumerate(dice):\n",
    "        if d <= i:\n",
    "            return i\n",
    "    return len(dice)"
   ]
  },
  {
   "cell_type": "code",
   "execution_count": 20,
   "metadata": {},
   "outputs": [
    {
     "name": "stdout",
     "output_type": "stream",
     "text": [
      "Case #1: 4\n",
      "Case #2: 5\n",
      "Case #3: 9\n",
      "Case #4: 1\n"
     ]
    }
   ],
   "source": [
    "for testcase_i in range(num_testcases):\n",
    "    print(f'Case #{testcase_i+1}: ', end='')\n",
    "    num_dice = int(input())\n",
    "    og_dice = np.array(sorted([int(x) for x in input().split()]))\n",
    "    best = 0\n",
    "    for i in range(len(og_dice)):\n",
    "        x = solve(og_dice[i:])\n",
    "        best = max(best, x)\n",
    "    print(best)"
   ]
  },
  {
   "cell_type": "code",
   "execution_count": null,
   "metadata": {},
   "outputs": [],
   "source": []
  }
 ],
 "metadata": {
  "interpreter": {
   "hash": "5b8e8c7c58fcf0fc99607013f6c94fb3e01c2b10f0ed16d273209e7f8e5331c1"
  },
  "kernelspec": {
   "display_name": "Python 3.8.9 64-bit ('venv': venv)",
   "language": "python",
   "name": "python3"
  },
  "language_info": {
   "codemirror_mode": {
    "name": "ipython",
    "version": 3
   },
   "file_extension": ".py",
   "mimetype": "text/x-python",
   "name": "python",
   "nbconvert_exporter": "python",
   "pygments_lexer": "ipython3",
   "version": "3.8.9"
  },
  "orig_nbformat": 4
 },
 "nbformat": 4,
 "nbformat_minor": 2
}
