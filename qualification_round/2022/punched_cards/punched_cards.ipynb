{
 "cells": [
  {
   "cell_type": "code",
   "execution_count": 13,
   "metadata": {},
   "outputs": [],
   "source": [
    "import numpy as np\n",
    "import os"
   ]
  },
  {
   "cell_type": "code",
   "execution_count": 14,
   "metadata": {},
   "outputs": [],
   "source": [
    "test_case = '/Users/sdale/repos/code_jam/qualification_round/2022/punched_cards/testcases/1_input.txt'\n",
    "assert(os.path.exists(test_case))\n",
    "with open(test_case) as f:\n",
    "    input_lines = f.readlines()\n",
    "input_line_index = 0\n",
    "def input():\n",
    "    global input_line_index\n",
    "    ret = input_lines[input_line_index].replace('\\n', '')\n",
    "    input_line_index += 1\n",
    "    return ret "
   ]
  },
  {
   "cell_type": "code",
   "execution_count": 15,
   "metadata": {},
   "outputs": [],
   "source": [
    "num_testcases = int(input())"
   ]
  },
  {
   "cell_type": "code",
   "execution_count": 17,
   "metadata": {},
   "outputs": [
    {
     "name": "stdout",
     "output_type": "stream",
     "text": [
      "Case #1:\n",
      "..+-+-+-+\n",
      "..|.|.|.|\n",
      "+-+-+-+-+\n",
      "|.|.|.|.|\n",
      "+-+-+-+-+\n",
      "|.|.|.|.|\n",
      "+-+-+-+-+\n",
      "Case #2:\n",
      "..+-+\n",
      "..|.|\n",
      "+-+-+\n",
      "|.|.|\n",
      "+-+-+\n",
      "Case #3:\n",
      "..+-+-+\n",
      "..|.|.|\n",
      "+-+-+-+\n",
      "|.|.|.|\n",
      "+-+-+-+\n"
     ]
    }
   ],
   "source": [
    "for testcase_i in range(num_testcases):\n",
    "    print(f'Case #{testcase_i+1}:')\n",
    "    row_str, col_str = input().split(' ')\n",
    "    row, col = int(row_str), int(col_str)\n",
    "    for row_i in range(row):\n",
    "        for col_i in range(col):\n",
    "            if col_i == 0 and row_i == 0:\n",
    "                print('..', end='')\n",
    "            else:\n",
    "                print('+-', end='')\n",
    "        print('+') \n",
    "        for col_i in range(col):\n",
    "            if col_i == 0 and row_i == 0:\n",
    "                print('..', end='')\n",
    "            else:\n",
    "                print('|.', end='')\n",
    "        print('|') \n",
    "\n",
    "    for col_i in range(col):\n",
    "        print('+-', end='')\n",
    "    print('+') "
   ]
  },
  {
   "cell_type": "code",
   "execution_count": null,
   "metadata": {},
   "outputs": [],
   "source": []
  }
 ],
 "metadata": {
  "interpreter": {
   "hash": "5b8e8c7c58fcf0fc99607013f6c94fb3e01c2b10f0ed16d273209e7f8e5331c1"
  },
  "kernelspec": {
   "display_name": "Python 3.8.9 64-bit ('venv': venv)",
   "language": "python",
   "name": "python3"
  },
  "language_info": {
   "codemirror_mode": {
    "name": "ipython",
    "version": 3
   },
   "file_extension": ".py",
   "mimetype": "text/x-python",
   "name": "python",
   "nbconvert_exporter": "python",
   "pygments_lexer": "ipython3",
   "version": "3.8.9"
  },
  "orig_nbformat": 4
 },
 "nbformat": 4,
 "nbformat_minor": 2
}
