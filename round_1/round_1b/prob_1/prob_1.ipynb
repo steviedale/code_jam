{
 "cells": [
  {
   "cell_type": "code",
   "execution_count": 27,
   "metadata": {},
   "outputs": [],
   "source": [
    "import os\n",
    "import numpy as np"
   ]
  },
  {
   "cell_type": "code",
   "execution_count": 28,
   "metadata": {},
   "outputs": [],
   "source": [
    "test_case = '/Users/sdale/repos/code_jam/round_1/round_1b/prob_1/testcases/1_input.txt'\n",
    "assert(os.path.exists(test_case))\n",
    "with open(test_case) as f:\n",
    "    input_lines = f.readlines()\n",
    "input_line_index = 0\n",
    "def input():\n",
    "    global input_line_index\n",
    "    ret = input_lines[input_line_index].replace('\\n', '')\n",
    "    input_line_index += 1\n",
    "    return ret "
   ]
  },
  {
   "cell_type": "code",
   "execution_count": 29,
   "metadata": {},
   "outputs": [],
   "source": [
    "num_testcases = int(input())"
   ]
  },
  {
   "cell_type": "code",
   "execution_count": 30,
   "metadata": {},
   "outputs": [],
   "source": [
    "def get_answer(pancakes):\n",
    "    count = 0\n",
    "    max_val = -float('inf')\n",
    "    while len(pancakes) > 0:\n",
    "        if pancakes[0] < pancakes[-1]:\n",
    "            i = 0\n",
    "        else:\n",
    "            i = -1\n",
    "        if pancakes[i] >= max_val:\n",
    "            max_val = pancakes[i]\n",
    "            count += 1\n",
    "        pancakes.pop(i)\n",
    "    return count"
   ]
  },
  {
   "cell_type": "code",
   "execution_count": 31,
   "metadata": {},
   "outputs": [
    {
     "name": "stdout",
     "output_type": "stream",
     "text": [
      "Case #1: 2\n",
      "Case #2: 3\n",
      "Case #3: 5\n",
      "Case #4: 2\n"
     ]
    }
   ],
   "source": [
    "for testcase_i in range(num_testcases):\n",
    "    input()  # number of pancakes (don't need)\n",
    "    nums = [int(x) for x in input().split()]\n",
    "    ans = get_answer(nums)\n",
    "    print(f'Case #{testcase_i+1}: {ans}')"
   ]
  },
  {
   "cell_type": "code",
   "execution_count": null,
   "metadata": {},
   "outputs": [],
   "source": []
  }
 ],
 "metadata": {
  "interpreter": {
   "hash": "5b8e8c7c58fcf0fc99607013f6c94fb3e01c2b10f0ed16d273209e7f8e5331c1"
  },
  "kernelspec": {
   "display_name": "Python 3.8.9 64-bit ('venv': venv)",
   "language": "python",
   "name": "python3"
  },
  "language_info": {
   "codemirror_mode": {
    "name": "ipython",
    "version": 3
   },
   "file_extension": ".py",
   "mimetype": "text/x-python",
   "name": "python",
   "nbconvert_exporter": "python",
   "pygments_lexer": "ipython3",
   "version": "3.8.9"
  },
  "orig_nbformat": 4
 },
 "nbformat": 4,
 "nbformat_minor": 2
}
