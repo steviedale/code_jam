{
 "cells": [
  {
   "cell_type": "code",
   "execution_count": null,
   "metadata": {},
   "outputs": [],
   "source": [
    "import os\n",
    "import numpy as np"
   ]
  },
  {
   "cell_type": "code",
   "execution_count": null,
   "metadata": {},
   "outputs": [],
   "source": [
    "test_case = '/Users/sdale/repos/code_jam/round_1/round_1b/prob_3/testcases/1_input.txt'\n",
    "assert(os.path.exists(test_case))\n",
    "with open(test_case) as f:\n",
    "    input_lines = f.readlines()\n",
    "input_line_index = 0\n",
    "def input():\n",
    "    global input_line_index\n",
    "    ret = input_lines[input_line_index].replace('\\n', '')\n",
    "    input_line_index += 1\n",
    "    return ret "
   ]
  },
  {
   "cell_type": "code",
   "execution_count": null,
   "metadata": {},
   "outputs": [],
   "source": [
    "num_testcase = int(input())"
   ]
  },
  {
   "cell_type": "code",
   "execution_count": null,
   "metadata": {},
   "outputs": [],
   "source": [
    "# print(f'Case #{i+1}: {ans}')"
   ]
  }
 ],
 "metadata": {
  "language_info": {
   "name": "python"
  },
  "orig_nbformat": 4
 },
 "nbformat": 4,
 "nbformat_minor": 2
}
