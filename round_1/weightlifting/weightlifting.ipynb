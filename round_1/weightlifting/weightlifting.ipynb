{
 "cells": [
  {
   "cell_type": "code",
   "execution_count": 64,
   "metadata": {},
   "outputs": [],
   "source": [
    "import os\n",
    "import numpy as np"
   ]
  },
  {
   "cell_type": "code",
   "execution_count": 65,
   "metadata": {},
   "outputs": [],
   "source": [
    "test_case = '/Users/sdale/repos/code_jam/round_1/weightlifting/testcases/1_input.txt'\n",
    "assert(os.path.exists(test_case))\n",
    "with open(test_case) as f:\n",
    "    input_lines = f.readlines()\n",
    "input_line_index = 0\n",
    "def input():\n",
    "    global input_line_index\n",
    "    ret = input_lines[input_line_index].replace('\\n', '')\n",
    "    input_line_index += 1\n",
    "    return ret "
   ]
  },
  {
   "cell_type": "code",
   "execution_count": 66,
   "metadata": {},
   "outputs": [],
   "source": [
    "num_testcase = int(input())"
   ]
  },
  {
   "cell_type": "code",
   "execution_count": 67,
   "metadata": {},
   "outputs": [],
   "source": [
    "# column == weight types\n",
    "# row == exercise\n",
    "def greatest_distance(weights, start_row_index):\n",
    "    assert(start_row_index < weights.shape[0])\n",
    "    num_rows = weights.shape[0]\n",
    "    num_cols = weights.shape[1]\n",
    "    distances = np.zeros(num_cols)\n",
    "    for col_i in range(num_cols):\n",
    "        for row_i in range(start_row_index, num_rows):\n",
    "            if weights[row_i][col_i] > 0:\n",
    "                distances[col_i] += 1\n",
    "            else:\n",
    "                break\n",
    "    max_i = np.argmax(distances)\n",
    "    return max_i, distances[max_i]\n",
    "\n",
    "def remove_weight(weights, start_row_index, weight_query, stack):\n",
    "    count = 0\n",
    "    while True:\n",
    "        count += 1\n",
    "        weight = stack.pop(-1)\n",
    "        weights[start_row_index:, weight] += 1\n",
    "        if weight == weight_query:\n",
    "            break\n",
    "    return count\n",
    "\n",
    "def get_answer(weights):\n",
    "    stack = []\n",
    "    count = 0\n",
    "    num_rows = weights.shape[0]\n",
    "    for row_i in range(num_rows):\n",
    "        while np.any(weights < 0):\n",
    "            min_row_i, min_col_i = np.unravel_index(weights.argmin(), weights.shape)\n",
    "            count += remove_weight(weights, row_i, min_col_i, stack)\n",
    "        while weights[row_i].sum() > 0:\n",
    "            max_dist_col_i, max_dist = greatest_distance(weights, row_i)\n",
    "            weights[row_i:, max_dist_col_i] -= 1\n",
    "            stack.append(max_dist_col_i)\n",
    "            count += 1\n",
    "    # take off final weights\n",
    "    count += len(stack)\n",
    "    return count\n",
    "\n"
   ]
  },
  {
   "cell_type": "code",
   "execution_count": 68,
   "metadata": {},
   "outputs": [],
   "source": [
    "a = np.array([[1, 2, 3], [-1, 5, 5]])\n",
    "i, j = np.unravel_index(a.argmin(), a.shape)"
   ]
  },
  {
   "cell_type": "code",
   "execution_count": 69,
   "metadata": {},
   "outputs": [
    {
     "name": "stdout",
     "output_type": "stream",
     "text": [
      "Case #3: 4\n",
      "Case #2: 12\n",
      "Case #3: 20\n"
     ]
    }
   ],
   "source": [
    "for i in range(num_testcase):\n",
    "    e, w = input().split(' ')\n",
    "    e, w = int(e), int(w)\n",
    "    weights = []\n",
    "    for i in range(e):\n",
    "        weights.append([int(x) for x in input().split(' ')])\n",
    "    weights = np.array(weights)\n",
    "    ans = get_answer(np.array(weights))\n",
    "    print(f'Case #{i+1}: {ans}')"
   ]
  },
  {
   "cell_type": "code",
   "execution_count": null,
   "metadata": {},
   "outputs": [],
   "source": []
  }
 ],
 "metadata": {
  "interpreter": {
   "hash": "5b8e8c7c58fcf0fc99607013f6c94fb3e01c2b10f0ed16d273209e7f8e5331c1"
  },
  "kernelspec": {
   "display_name": "Python 3.8.9 64-bit ('venv': venv)",
   "language": "python",
   "name": "python3"
  },
  "language_info": {
   "codemirror_mode": {
    "name": "ipython",
    "version": 3
   },
   "file_extension": ".py",
   "mimetype": "text/x-python",
   "name": "python",
   "nbconvert_exporter": "python",
   "pygments_lexer": "ipython3",
   "version": "3.8.9"
  },
  "orig_nbformat": 4
 },
 "nbformat": 4,
 "nbformat_minor": 2
}
