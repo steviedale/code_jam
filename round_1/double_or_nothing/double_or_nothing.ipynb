{
 "cells": [
  {
   "cell_type": "code",
   "execution_count": 64,
   "metadata": {},
   "outputs": [],
   "source": [
    "import os"
   ]
  },
  {
   "cell_type": "code",
   "execution_count": 65,
   "metadata": {},
   "outputs": [],
   "source": [
    "test_case = '/Users/sdale/repos/code_jam/round_1/double_or_nothing/testcases/1_input.txt'\n",
    "assert(os.path.exists(test_case))\n",
    "with open(test_case) as f:\n",
    "    input_lines = f.readlines()\n",
    "input_line_index = 0\n",
    "def input():\n",
    "    global input_line_index\n",
    "    ret = input_lines[input_line_index].replace('\\n', '')\n",
    "    input_line_index += 1\n",
    "    return ret "
   ]
  },
  {
   "cell_type": "code",
   "execution_count": 66,
   "metadata": {},
   "outputs": [],
   "source": [
    "num_testcase = int(input())"
   ]
  },
  {
   "cell_type": "code",
   "execution_count": 67,
   "metadata": {},
   "outputs": [],
   "source": [
    "def same_letter(word):\n",
    "    for l in word:\n",
    "        if l != word[0]:\n",
    "            return False\n",
    "    return True\n",
    "\n",
    "def next_non(word):\n",
    "    a = word[0]\n",
    "    for i in range(len(word)-1):\n",
    "        if word[i+1] != a:\n",
    "            return word[i+1]\n",
    "    raise Exception()\n",
    "\n",
    "def get_answer(word):\n",
    "    if same_letter(word):\n",
    "        return word\n",
    "    final_word = ''\n",
    "    for letter_i in range(len(word)-1):\n",
    "        if same_letter(word[letter_i:]):\n",
    "            return final_word + word[letter_i:]\n",
    "        final_word += word[letter_i]\n",
    "        # next_non\n",
    "        if word[letter_i] <= next_non(word[letter_i:]):\n",
    "            final_word += word[letter_i]\n",
    "    final_word += word[-1]\n",
    "    return final_word"
   ]
  },
  {
   "cell_type": "code",
   "execution_count": 68,
   "metadata": {},
   "outputs": [
    {
     "name": "stdout",
     "output_type": "stream",
     "text": [
      "Case #1: PEEEEL\n",
      "Case #2: AAAAAAAAAA\n",
      "Case #3: CCODDEEJAAMDAAY\n",
      "Case #4: TAAAAAAL\n",
      "Case #5: TBBBA\n"
     ]
    }
   ],
   "source": [
    "for i in range(num_testcase):\n",
    "    ans = get_answer(input())\n",
    "    print(f'Case #{i+1}: {ans}')"
   ]
  },
  {
   "cell_type": "code",
   "execution_count": null,
   "metadata": {},
   "outputs": [],
   "source": []
  }
 ],
 "metadata": {
  "interpreter": {
   "hash": "5b8e8c7c58fcf0fc99607013f6c94fb3e01c2b10f0ed16d273209e7f8e5331c1"
  },
  "kernelspec": {
   "display_name": "Python 3.8.9 64-bit ('venv': venv)",
   "language": "python",
   "name": "python3"
  },
  "language_info": {
   "codemirror_mode": {
    "name": "ipython",
    "version": 3
   },
   "file_extension": ".py",
   "mimetype": "text/x-python",
   "name": "python",
   "nbconvert_exporter": "python",
   "pygments_lexer": "ipython3",
   "version": "3.8.9"
  },
  "orig_nbformat": 4
 },
 "nbformat": 4,
 "nbformat_minor": 2
}
